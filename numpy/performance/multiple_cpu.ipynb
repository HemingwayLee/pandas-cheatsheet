{
 "cells": [
  {
   "cell_type": "markdown",
   "id": "898970d8-ff2d-46f6-946c-c286fc300755",
   "metadata": {},
   "source": [
    "# Check `Activity Monitor`\n",
    "* Double clicks on CPU chart of `Activity Monitor`\n",
    "* How many high CPU depends on the docker settings"
   ]
  },
  {
   "cell_type": "code",
   "execution_count": null,
   "id": "05aa31d2-efed-4c29-83f7-6a9ed61c905c",
   "metadata": {},
   "outputs": [],
   "source": [
    "import numpy as np\n",
    "\n",
    "arr1 = np.random.rand(10000, 10000)\n",
    "arr2 = np.random.rand(10000, 10000)\n",
    "\n",
    "result = np.dot(np.linalg.inv(arr1), arr2)\n",
    "\n",
    "print(\"Finished\")"
   ]
  }
 ],
 "metadata": {
  "kernelspec": {
   "display_name": "Python 3 (ipykernel)",
   "language": "python",
   "name": "python3"
  },
  "language_info": {
   "codemirror_mode": {
    "name": "ipython",
    "version": 3
   },
   "file_extension": ".py",
   "mimetype": "text/x-python",
   "name": "python",
   "nbconvert_exporter": "python",
   "pygments_lexer": "ipython3",
   "version": "3.8.18"
  }
 },
 "nbformat": 4,
 "nbformat_minor": 5
}
