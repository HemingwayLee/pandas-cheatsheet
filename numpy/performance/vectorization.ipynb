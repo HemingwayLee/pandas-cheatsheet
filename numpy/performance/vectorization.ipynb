{
 "cells": [
  {
   "cell_type": "code",
   "execution_count": 7,
   "id": "c2b197f4-503a-48d9-b819-a6f108e66d0f",
   "metadata": {},
   "outputs": [],
   "source": [
    "import numpy as np\n",
    "import time\n",
    "import math"
   ]
  },
  {
   "cell_type": "code",
   "execution_count": 13,
   "id": "dcb96580-e5bf-4861-8b02-8d88eca2bd6e",
   "metadata": {},
   "outputs": [
    {
     "name": "stdout",
     "output_type": "stream",
     "text": [
      "112492500\n",
      "Time taken by vectorized sum : 0.002880573272705078\n",
      "Time taken by iterative  sum : 0.004734039306640625\n"
     ]
    }
   ],
   "source": [
    "t1 = time.time()\n",
    "print(np.sum(np.arange(15000)))\n",
    "t2 = time.time()\n",
    "print(f\"Time taken by vectorized sum : {t2-t1}\")\n",
    "\n",
    "t1 = time.time()\n",
    "total = 0\n",
    "for item in range(0, 15000):\n",
    "    total += item\n",
    "t2 = time.time() \n",
    "print(f\"Time taken by iterative  sum : {t2-t1}\")\n"
   ]
  }
 ],
 "metadata": {
  "kernelspec": {
   "display_name": "Python 3 (ipykernel)",
   "language": "python",
   "name": "python3"
  },
  "language_info": {
   "codemirror_mode": {
    "name": "ipython",
    "version": 3
   },
   "file_extension": ".py",
   "mimetype": "text/x-python",
   "name": "python",
   "nbconvert_exporter": "python",
   "pygments_lexer": "ipython3",
   "version": "3.8.18"
  }
 },
 "nbformat": 4,
 "nbformat_minor": 5
}
