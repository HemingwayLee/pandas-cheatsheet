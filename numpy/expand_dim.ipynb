{
 "cells": [
  {
   "cell_type": "code",
   "execution_count": 8,
   "metadata": {},
   "outputs": [
    {
     "name": "stdout",
     "output_type": "stream",
     "text": [
      "[[10 20]]\n",
      "(1, 2)\n",
      "[[10 20]]\n",
      "(1, 2)\n",
      "[[0 0]]\n",
      "(1, 2)\n"
     ]
    }
   ],
   "source": [
    "import numpy as np\n",
    "\n",
    "x = np.array([10, 20])\n",
    "x = np.expand_dims(x, axis=0)\n",
    "\n",
    "y = np.array([[10, 20]])\n",
    "\n",
    "z = np.zeros((1,2),dtype=np.uint8)\n",
    "\n",
    "print(x)\n",
    "print(x.shape)\n",
    "\n",
    "print(y)\n",
    "print(y.shape)\n",
    "\n",
    "print(z)\n",
    "print(z.shape)\n"
   ]
  }
 ],
 "metadata": {
  "kernelspec": {
   "display_name": "Python 3",
   "language": "python",
   "name": "python3"
  },
  "language_info": {
   "codemirror_mode": {
    "name": "ipython",
    "version": 3
   },
   "file_extension": ".py",
   "mimetype": "text/x-python",
   "name": "python",
   "nbconvert_exporter": "python",
   "pygments_lexer": "ipython3",
   "version": "3.8.5"
  }
 },
 "nbformat": 4,
 "nbformat_minor": 4
}
