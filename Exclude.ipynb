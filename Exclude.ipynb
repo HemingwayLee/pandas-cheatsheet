{
 "cells": [
  {
   "cell_type": "code",
   "execution_count": 1,
   "metadata": {},
   "outputs": [
    {
     "name": "stdout",
     "output_type": "stream",
     "text": [
      "    name  age\n",
      "0  chris   10\n",
      "1   rose   11\n",
      "    name  age\n",
      "0  chris   10\n",
      "1  james   20\n",
      "2  kenny   30\n"
     ]
    }
   ],
   "source": [
    "import pandas as pd\n",
    "\n",
    "df1 = pd.DataFrame(data={'name':['chris', 'rose'], 'age':[10, 11]})\n",
    "df2 = pd.DataFrame(data={'name':['chris', 'james', 'kenny'], 'age':[10, 20, 30]})\n",
    "\n",
    "print(df1)\n",
    "print(df2)"
   ]
  },
  {
   "cell_type": "code",
   "execution_count": 3,
   "metadata": {},
   "outputs": [
    {
     "name": "stdout",
     "output_type": "stream",
     "text": [
      "   name   age\n",
      "1  rose  11.0\n"
     ]
    }
   ],
   "source": [
    "df_exclude1 = df1[~df1.isin(df2)].dropna()\n",
    "print(df_exclude1)"
   ]
  },
  {
   "cell_type": "code",
   "execution_count": 4,
   "metadata": {},
   "outputs": [
    {
     "name": "stdout",
     "output_type": "stream",
     "text": [
      "    name   age\n",
      "1  james  20.0\n",
      "2  kenny  30.0\n"
     ]
    }
   ],
   "source": [
    "df_exclude2 = df2[~df2.isin(df1)].dropna()\n",
    "print(df_exclude2)"
   ]
  },
  {
   "cell_type": "code",
   "execution_count": null,
   "metadata": {},
   "outputs": [],
   "source": []
  }
 ],
 "metadata": {
  "kernelspec": {
   "display_name": "Python 3",
   "language": "python",
   "name": "python3"
  },
  "language_info": {
   "codemirror_mode": {
    "name": "ipython",
    "version": 3
   },
   "file_extension": ".py",
   "mimetype": "text/x-python",
   "name": "python",
   "nbconvert_exporter": "python",
   "pygments_lexer": "ipython3",
   "version": "3.7.0"
  }
 },
 "nbformat": 4,
 "nbformat_minor": 2
}
