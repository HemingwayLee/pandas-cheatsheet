{
 "cells": [
  {
   "cell_type": "code",
   "execution_count": 6,
   "metadata": {},
   "outputs": [
    {
     "name": "stdout",
     "output_type": "stream",
     "text": [
      "DatetimeIndex(['2000-01-01', '2000-01-02', '2000-01-03', '2000-01-04',\n",
      "               '2000-01-05', '2000-01-06', '2000-01-07', '2000-01-08'],\n",
      "              dtype='datetime64[ns]', freq='D')\n"
     ]
    }
   ],
   "source": [
    "import pandas as pd\n",
    "import numpy as np\n",
    "\n",
    "dates = pd.date_range('1/1/2000', periods=8)\n",
    "print(dates)"
   ]
  },
  {
   "cell_type": "code",
   "execution_count": 4,
   "metadata": {},
   "outputs": [
    {
     "name": "stdout",
     "output_type": "stream",
     "text": [
      "          A         B         C         D\n",
      "0  1.573875 -1.358456 -0.458934  0.534014\n",
      "1 -0.872233 -0.551771  0.832511  1.331407\n",
      "2 -0.297940  0.354062 -0.236576 -0.179152\n",
      "3 -1.001278 -0.575837  0.886731  0.710882\n",
      "4  1.445428  1.104531  0.338665 -0.344042\n",
      "5 -0.226344 -0.853648 -1.746600  0.942932\n",
      "6 -0.159416  0.726514 -0.543993 -1.347350\n",
      "7  0.037707  0.548474 -0.871037  1.083147\n"
     ]
    }
   ],
   "source": [
    "df1 = pd.DataFrame(np.random.randn(8,4), columns=['A', 'B', 'C', 'D'])\n",
    "print(df1)"
   ]
  },
  {
   "cell_type": "code",
   "execution_count": 5,
   "metadata": {},
   "outputs": [
    {
     "name": "stdout",
     "output_type": "stream",
     "text": [
      "                   A         B         C         D\n",
      "2000-01-01 -0.813225 -0.741395  1.108219  0.053571\n",
      "2000-01-02  0.369741 -0.747768 -0.344138 -0.076589\n",
      "2000-01-03 -1.311400 -0.673396 -2.052141 -0.791310\n",
      "2000-01-04  0.762020  1.561373  0.497939 -0.072962\n",
      "2000-01-05  1.435331 -0.509317  1.950381  0.523858\n",
      "2000-01-06 -2.271167  0.113089  0.637987  0.960914\n",
      "2000-01-07 -0.118965  0.754993  0.608819  0.135094\n",
      "2000-01-08  1.111705 -0.491275  0.228647  1.781200\n"
     ]
    }
   ],
   "source": [
    "df_with_idx = pd.DataFrame(np.random.randn(8,4), index=dates, columns=['A', 'B', 'C', 'D'])\n",
    "print(df_with_idx)"
   ]
  }
 ],
 "metadata": {
  "kernelspec": {
   "display_name": "Python 3",
   "language": "python",
   "name": "python3"
  },
  "language_info": {
   "codemirror_mode": {
    "name": "ipython",
    "version": 3
   },
   "file_extension": ".py",
   "mimetype": "text/x-python",
   "name": "python",
   "nbconvert_exporter": "python",
   "pygments_lexer": "ipython3",
   "version": "3.7.0"
  }
 },
 "nbformat": 4,
 "nbformat_minor": 2
}
