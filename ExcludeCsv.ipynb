{
 "cells": [
  {
   "cell_type": "code",
   "execution_count": 1,
   "metadata": {},
   "outputs": [
    {
     "name": "stdout",
     "output_type": "stream",
     "text": [
      "    name  age          dt\n",
      "0    lee   34  2018-08-18\n",
      "1    yun   32  2017-02-12\n",
      "2  kenny   28  2014-03-01\n",
      "3  james   25  2011-12-02\n"
     ]
    }
   ],
   "source": [
    "import pandas as pd\n",
    "\n",
    "df_csv = pd.read_csv('example.csv')\n",
    "print(df_csv)"
   ]
  },
  {
   "cell_type": "code",
   "execution_count": 2,
   "metadata": {},
   "outputs": [
    {
     "name": "stdout",
     "output_type": "stream",
     "text": [
      "    name  age          dt\n",
      "2  kenny   28  2014-03-01\n",
      "3  james   25  2011-12-02\n"
     ]
    }
   ],
   "source": [
    "mask = df_csv['age'].isin([32, 34])\n",
    "df_ex = df_csv[~mask]\n",
    "print(df_ex)"
   ]
  },
  {
   "cell_type": "code",
   "execution_count": null,
   "metadata": {},
   "outputs": [],
   "source": []
  }
 ],
 "metadata": {
  "kernelspec": {
   "display_name": "Python 3",
   "language": "python",
   "name": "python3"
  },
  "language_info": {
   "codemirror_mode": {
    "name": "ipython",
    "version": 3
   },
   "file_extension": ".py",
   "mimetype": "text/x-python",
   "name": "python",
   "nbconvert_exporter": "python",
   "pygments_lexer": "ipython3",
   "version": "3.7.0"
  }
 },
 "nbformat": 4,
 "nbformat_minor": 2
}
