{
 "cells": [
  {
   "cell_type": "code",
   "execution_count": 4,
   "metadata": {},
   "outputs": [
    {
     "name": "stdout",
     "output_type": "stream",
     "text": [
      "   id name  address\n",
      "0   3  aaa    Tokyo\n",
      "1   2  bbb   Taipei\n",
      "2   1  ccc  Fukuoka\n"
     ]
    }
   ],
   "source": [
    "import psycopg2\n",
    "import pandas.io.sql as psql\n",
    "import os\n",
    "from os.path import join\n",
    "from dotenv import load_dotenv\n",
    "from pathlib import Path\n",
    "\n",
    "DOTENV_PATH = join(Path().resolve(), '.env')\n",
    "load_dotenv(DOTENV_PATH)\n",
    "\n",
    "DB_NAME = os.environ.get(\"DB_NAME\")\n",
    "USER_NAME = os.environ.get(\"USER_NAME\")\n",
    "\n",
    "conn_string = \"dbname='\" + DB_NAME + \"' user='\" + USER_NAME + \"'\"\n",
    "\n",
    "conn = psycopg2.connect(conn_string)\n",
    "df = psql.read_sql_query('select * from tlb;', con=conn)\n",
    "print(df)"
   ]
  }
 ],
 "metadata": {
  "kernelspec": {
   "display_name": "Python 3",
   "language": "python",
   "name": "python3"
  },
  "language_info": {
   "codemirror_mode": {
    "name": "ipython",
    "version": 3
   },
   "file_extension": ".py",
   "mimetype": "text/x-python",
   "name": "python",
   "nbconvert_exporter": "python",
   "pygments_lexer": "ipython3",
   "version": "3.7.0"
  }
 },
 "nbformat": 4,
 "nbformat_minor": 2
}
